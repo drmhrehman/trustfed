{
  "nbformat": 4,
  "nbformat_minor": 0,
  "metadata": {
    "colab": {
      "name": "TrustFed.ipynb",
      "provenance": [],
      "collapsed_sections": []
    },
    "kernelspec": {
      "name": "python3",
      "display_name": "Python 3"
    },
    "language_info": {
      "name": "python"
    }
  },
  "cells": [
    {
      "cell_type": "code",
      "metadata": {
        "id": "NBj2cR34X7y0"
      },
      "source": [
        "import torch\n",
        "import torchvision\n",
        "import torch.nn as nn\n",
        "import torch.nn.functional as F\n",
        "import torch.optim as optim\n",
        "\n",
        "import seaborn as sns\n",
        "import matplotlib.pyplot as plt\n",
        "import numpy as np\n",
        "sns.set()\n",
        "import copy\n",
        "from numpy.random import default_rng\n",
        "np.random.seed(1)\n",
        "import os\n",
        "import requests\n",
        "import zipfile\n",
        "from tqdm import tqdm\n",
        "import pandas as pd\n",
        "\n",
        "\n",
        "def process_data():\n",
        "  # load the data\n",
        "  dirname = os.getcwd()\n",
        "  folder_path = os.path.join(dirname, '')\n",
        "\n",
        "  train_data_path = os.path.join(folder_path, 'train_data_FD001.txt')\n",
        "  train_data = pd.read_csv(train_data_path)\n",
        "  train_data.set_index('time_in_cycles')\n",
        "\n",
        "  test_data_path = os.path.join(folder_path, 'test_data_FD001.txt')\n",
        "  test_data = pd.read_csv(test_data_path)\n",
        "  test_data.set_index('time_in_cycles')\n",
        "\n",
        "  # retrieve the max cycles per engine: RUL\n",
        "  train_rul = pd.DataFrame(train_data.groupby('engine_no')['time_in_cycles'].max()).reset_index()\n",
        "  # merge the RULs into the training data\n",
        "  train_rul.columns = ['engine_no', 'max']\n",
        "  train_data = train_data.merge(train_rul, on=['engine_no'], how='left')\n",
        "  # add the current RUL for every cycle\n",
        "  train_data['RUL'] = train_data['max'] - train_data['time_in_cycles']\n",
        "  train_data.drop('max', axis=1, inplace=True)\n",
        "\n",
        "  # drop the columns not needed\n",
        "  cols_nan = train_data.columns[train_data.isna().any()].tolist()\n",
        "  cols_const = [ col for col in train_data.columns if len(train_data[col].unique()) <= 2 ]\n",
        "\n",
        "  cols_irrelevant = ['operational_setting_1', 'operational_setting_2', 'sensor_measurement_11', 'sensor_measurement_12', 'sensor_measurement_13']\n",
        "\n",
        "  # Drop the columns without or with constant data\n",
        "  train_data = train_data.drop(columns=cols_const + cols_nan + cols_irrelevant)\n",
        "  test_data = test_data.drop(columns=cols_const + cols_nan + cols_irrelevant)\n",
        "\n",
        "  # define the columns for training\n",
        "  train_data_inputs = train_data.copy()\n",
        "  train_data_inputs.drop(columns=['RUL', 'engine_no', 'time_in_cycles'], inplace=True)\n",
        "  training_columns = train_data_inputs.columns\n",
        "\n",
        "  return train_data, test_data,training_columns\n",
        "\n",
        "WINDOW_SIZE = 1\n",
        "def transform_to_windowed_data(dataset, window_size, window_limit = 0, verbose = True):\n",
        "\n",
        "  features = []\n",
        "  labels = []\n",
        "\n",
        "  dataset = dataset.set_index('time_in_cycles')\n",
        "  data_per_engine = dataset.groupby('engine_no')\n",
        "\n",
        "  for engine_no, engine_data in data_per_engine:\n",
        "      # skip if the engines cycles are too few\n",
        "      if len(engine_data) < window_size + window_limit -1:\n",
        "        continue\n",
        "\n",
        "      if window_limit != 0:\n",
        "        window_count = window_limit\n",
        "      else:\n",
        "        window_count = len(engine_data) - window_size\n",
        "\n",
        "      for i in range(0, window_count):\n",
        "        # take the last x cycles where x is the window size\n",
        "        start = -window_size - i\n",
        "        end = len(engine_data) - i\n",
        "        inputs = engine_data.iloc[start:end]\n",
        "        # use the RUL of the last cycle as label\n",
        "        outputs = engine_data.iloc[end - 1, -1]\n",
        "\n",
        "        inputs = inputs.drop(['engine_no', 'RUL'], axis=1)\n",
        "\n",
        "        features.append(inputs.values)\n",
        "        labels.append(outputs)\n",
        "\n",
        "  features = np.array(features)\n",
        "  labels = np.array(labels)\n",
        "  labels = np.expand_dims(labels, axis=1)\n",
        "\n",
        "  if verbose:\n",
        "    print(\"{} features with shape {}\".format(len(features), features[0].shape))\n",
        "    print(\"{} labels with shape {}\".format(len(labels), labels.shape))\n",
        "\n",
        "  return features, labels\n",
        "\n",
        "\n",
        "def process_data_final():\n",
        "    train_data, test_data, training_columns = process_data()\n",
        "    x_train, y_train = transform_to_windowed_data(train_data, WINDOW_SIZE)\n",
        "    x_test, y_test = transform_to_windowed_data(test_data, WINDOW_SIZE)\n",
        "\n",
        "\n",
        "    # clip RUL values\n",
        "    rul_clip_limit = 110\n",
        "    y_train = y_train.clip(max=rul_clip_limit)\n",
        "    y_test = y_test.clip(max=rul_clip_limit)\n",
        "\n",
        "    #  Data Normalization\n",
        "\n",
        "    # transform to torch tensor\n",
        "    tensor_x_train = torch.Tensor(x_train)\n",
        "    tensor_y_train = torch.Tensor(y_train)\n",
        "    tensor_x_test = torch.Tensor(x_test)\n",
        "    tensor_y_test = torch.Tensor(y_test)\n",
        "\n",
        "    #  Data Normalization\n",
        "    train_mean = tensor_x_train.mean(0)\n",
        "    train_std = tensor_x_train.std(0)\n",
        "    tensor_x_train = (tensor_x_train - train_mean) / train_std\n",
        "\n",
        "    test_mean = tensor_x_test.mean(0)\n",
        "    test_std = tensor_x_test.std(0)\n",
        "    tensor_x_test = (tensor_x_test - test_mean) / test_std\n",
        "\n",
        "    # create datasets for train, test and validation\n",
        "    train_dataset = torch.utils.data.TensorDataset(tensor_x_train, tensor_y_train)\n",
        "    test_dataset = torch.utils.data.TensorDataset(tensor_x_test, tensor_y_test)\n",
        "\n",
        "    # create data loaders\n",
        "    train_loader = torch.utils.data.DataLoader(train_dataset, batch_size=200)\n",
        "    test_loader = torch.utils.data.DataLoader(test_dataset, batch_size=120)\n",
        "\n",
        "    return train_loader, test_loader\n",
        "\n"
      ],
      "execution_count": 1,
      "outputs": []
    },
    {
      "cell_type": "code",
      "metadata": {
        "id": "JqLMVN6eW-nE"
      },
      "source": [
        "class Net(nn.Module):\n",
        "    def __init__(self):\n",
        "        super(Net, self).__init__()\n",
        "\n",
        "        self.fc1 = nn.Linear(11, 24)\n",
        "        self.fc2 = nn.Linear(24, 24)\n",
        "        self.fc3 = nn.Linear(24, 24)\n",
        "        self.fc4 = nn.Linear(24, 1)\n",
        "\n",
        "    def forward(self, x):\n",
        "        x = F.relu(self.fc1(x))\n",
        "        x = F.relu(self.fc2(x))\n",
        "        x = F.relu(self.fc3(x))\n",
        "        x = self.fc4(x)\n",
        "        x = x[:, -1, :]\n",
        "\n",
        "        return x"
      ],
      "execution_count": 2,
      "outputs": []
    },
    {
      "cell_type": "code",
      "metadata": {
        "colab": {
          "base_uri": "https://localhost:8080/"
        },
        "id": "q_HFv74pZo5t",
        "outputId": "32d5be6d-993b-408d-f458-5b2365ee4e23"
      },
      "source": [
        "train_loader, test_loader = process_data_final()"
      ],
      "execution_count": 3,
      "outputs": [
        {
          "output_type": "stream",
          "text": [
            "20531 features with shape (1, 11)\n",
            "20531 labels with shape (20531, 1)\n",
            "12996 features with shape (1, 11)\n",
            "12996 labels with shape (12996, 1)\n"
          ],
          "name": "stdout"
        }
      ]
    },
    {
      "cell_type": "code",
      "metadata": {
        "id": "nY64j4_9VKS2"
      },
      "source": [
        "class Worker():\n",
        "    def __init__(self, ids, learning_rate, model, train_data, test_data):\n",
        "        self.id = ids\n",
        "        self.learning_rate = learning_rate\n",
        "        self.model = model\n",
        "        self.train_input, self.train_output = train_data\n",
        "        self.test_input, self.test_output = test_data\n",
        "        self.opt = optim.SGD(params=self.model.parameters(),lr=self.learning_rate)\n",
        "        self.model_evaluation = {}\n",
        "\n",
        "    def train_my_model(self):\n",
        "        criterion = nn.L1Loss()\n",
        "        self.model.train()\n",
        "        self.opt.zero_grad()\n",
        "        pred = self.model(self.train_input)\n",
        "        loss = criterion(pred, self.train_output)\n",
        "        loss.backward()\n",
        "        self.opt.step()\n",
        "        loss = loss.item()\n",
        "        return loss\n",
        "\n",
        "    def test_my_model(self):\n",
        "        criterion = nn.L1Loss()\n",
        "        self.model.eval()\n",
        "        with torch.no_grad():\n",
        "            output = self.model(self.test_input)\n",
        "            loss = criterion(output, self.test_output).item()\n",
        "            return loss\n",
        "\n",
        "    def test_other_model(self, ids, model_1, results):\n",
        "        criterion = nn.L1Loss()\n",
        "        model_1.eval()\n",
        "        with torch.no_grad():\n",
        "            output = model_1(self.test_input)\n",
        "            loss = criterion(output, self.test_output).item()\n",
        "            results[self.id][ids] = round(loss,3)\n",
        "            return loss\n",
        "\n",
        "    def test_final_model(self, model_1):\n",
        "        criterion = nn.L1Loss()\n",
        "        model_1.eval()\n",
        "        with torch.no_grad():\n",
        "            output = model_1(self.test_input)\n",
        "            loss = criterion(output, self.test_output).item()\n",
        "            return loss"
      ],
      "execution_count": 4,
      "outputs": []
    },
    {
      "cell_type": "code",
      "metadata": {
        "id": "7uwxRJuHsGtY"
      },
      "source": [
        "def report_outlier(result):\n",
        "        outliers = []\n",
        "        data_std = np.std(result)\n",
        "        data_mean = np.mean(result)\n",
        "        anomaly_cut_off = data_std * 2\n",
        "        lower_limit = data_mean - anomaly_cut_off\n",
        "        upper_limit = data_mean + anomaly_cut_off\n",
        "\n",
        "        for index, loss in enumerate(result):\n",
        "            if loss > upper_limit or loss < lower_limit:\n",
        "                outliers.append(index)\n",
        "        return outliers\n",
        "\n",
        "def aggregate_model(models):\n",
        "    model_agrregated = []\n",
        "    for param in models[0].parameters():\n",
        "      model_agrregated += [np.zeros(param.shape)]\n",
        "\n",
        "    for model in models:\n",
        "      i = 0\n",
        "      for param in model.parameters():\n",
        "        model_agrregated[i] += param.detach().numpy()\n",
        "\n",
        "        i += 1\n",
        "\n",
        "    model_agrregated = np.array(model_agrregated) / len(models)\n",
        "    \n",
        "    return model_agrregated"
      ],
      "execution_count": 5,
      "outputs": []
    },
    {
      "cell_type": "code",
      "metadata": {
        "id": "D-NDncaXXgfl",
        "colab": {
          "base_uri": "https://localhost:8080/"
        },
        "outputId": "e92029f3-7eec-4bb3-db63-e151d5574fa7"
      },
      "source": [
        "noise_factor = 15\n",
        "model_original = Net()\n",
        "model_outlier = Net()\n",
        "size = 10\n",
        "num_workers = 100\n",
        "workers = {}\n",
        "outliers = [4,18,25,33,45,50,61,77,84,99]\n",
        "\n",
        "for index, (data, target) in enumerate(train_loader):\n",
        "    if index == num_workers:\n",
        "        test_worker = Worker(index, 0.1,copy.deepcopy(model_original), (data, target), (None, None))\n",
        "        break\n",
        "\n",
        "    if index in outliers:\n",
        "        data = torch.rand(data.shape[0], data.shape[1], data.shape[2]) * noise_factor\n",
        "        workers[index] = Worker(index, 0.1,copy.deepcopy(model_outlier), (data, target), (None, None))\n",
        "    else:\n",
        "        workers[index] = Worker(index, 0.1,copy.deepcopy(model_original), (data, target), (None, None))\n",
        "\n",
        "    \n",
        "    \n",
        "for index, (data, target) in enumerate(test_loader):\n",
        "    if index == num_workers:\n",
        "        test_worker.test_input = data\n",
        "        test_worker.test_output = target\n",
        "        break\n",
        "    if index in outliers:\n",
        "        data = torch.rand(data.shape[0], data.shape[1], data.shape[2]) * noise_factor\n",
        "\n",
        "    workers[index].test_input = data\n",
        "    workers[index].test_output = target"
      ],
      "execution_count": 6,
      "outputs": [
        {
          "output_type": "stream",
          "text": [
            "torch.Size([120, 1, 11])\n",
            "Test Worker Created..\n"
          ],
          "name": "stdout"
        }
      ]
    },
    {
      "cell_type": "code",
      "metadata": {
        "id": "Ht0tItWKwHne"
      },
      "source": [
        "import time"
      ],
      "execution_count": 7,
      "outputs": []
    },
    {
      "cell_type": "code",
      "metadata": {
        "colab": {
          "base_uri": "https://localhost:8080/"
        },
        "id": "oqqLBCHyVQNk",
        "outputId": "7774319c-a65e-489c-ba00-6778a05a3b79"
      },
      "source": [
        "results = np.zeros((num_workers, num_workers))\n",
        "iteration = 10\n",
        "loss_results = np.zeros((2,iteration))\n",
        "number_of_detected_outliers = np.zeros((iteration))\n",
        "for itr in range(iteration):\n",
        "    for node in workers:\n",
        "        if node in outliers:\n",
        "            continue\n",
        "        for epoch in range(100):\n",
        "            loss = workers[node].train_my_model()\n",
        "\n",
        "\n",
        "    start_time = time.time()\n",
        "    for master in workers:\n",
        "        for slave in workers:\n",
        "            if int(master/size) == int(slave/size):\n",
        "                loss = workers[master].test_other_model(workers[slave].id, copy.deepcopy(workers[slave].model), results)\n",
        "\n",
        "    complaints = np.zeros((num_workers))\n",
        "    outliers_real = []\n",
        "    start = 0\n",
        "    end = 0\n",
        "    for idx, result in enumerate(results):\n",
        "        start = int(idx/size)*size\n",
        "        end = start + size\n",
        "        report = report_outlier(result[start:end])\n",
        "        for index in report:\n",
        "            complaints[index+start] += 1\n",
        "        \n",
        "    for idx, num_complain in enumerate(complaints):\n",
        "        if num_complain >= int(size/2):\n",
        "            outliers_real += [idx]\n",
        "    print(outliers_real)\n",
        "    number_of_detected_outliers[itr] = len(outliers_real)\n",
        "\n",
        "    end_time = time.time()\n",
        "    time_taken = end_time - start_time\n",
        "    print(f'Time taken for validation is {time_taken}')\n",
        "\n",
        "    models_all = []\n",
        "    models_partial = []\n",
        "    for w in workers:\n",
        "        models_all += [workers[w].model]\n",
        "        if w in outliers_real:\n",
        "            continue\n",
        "\n",
        "        models_partial += [workers[w].model]\n",
        "            \n",
        "\n",
        "    model_all_aggregate = aggregate_model(models_all)\n",
        "    model_partial_aggregate = aggregate_model(models_partial)\n",
        "\n",
        "    model_full = Net()\n",
        "    for i, param in enumerate(model_full.parameters()):\n",
        "        param.data = torch.from_numpy(model_all_aggregate[i]).type('torch.FloatTensor')\n",
        "\n",
        "    model_partial = Net()\n",
        "    for i, param in enumerate(model_partial.parameters()):\n",
        "        param.data = torch.from_numpy(model_partial_aggregate[i]).type('torch.FloatTensor')\n",
        "\n",
        "    loss_all = test_worker.test_final_model(model_full)\n",
        "    loss_partial = test_worker.test_final_model(model_partial)\n",
        "    print(f'Loss is {loss_all},{loss_partial}')\n",
        "    loss_results[0][itr] = loss_all\n",
        "    loss_results[1][itr] = loss_partial"
      ],
      "execution_count": 8,
      "outputs": [
        {
          "output_type": "stream",
          "text": [
            "[50, 84]\n",
            "Time taken for validation is 0.7925724983215332\n",
            "Loss is 97.7451171875,97.35951232910156\n"
          ],
          "name": "stdout"
        },
        {
          "output_type": "stream",
          "text": [
            "/usr/local/lib/python3.7/dist-packages/ipykernel_launcher.py:26: VisibleDeprecationWarning: Creating an ndarray from ragged nested sequences (which is a list-or-tuple of lists-or-tuples-or ndarrays with different lengths or shapes) is deprecated. If you meant to do this, you must specify 'dtype=object' when creating the ndarray\n"
          ],
          "name": "stderr"
        },
        {
          "output_type": "stream",
          "text": [
            "[4, 45, 50, 61, 77, 84]\n",
            "Time taken for validation is 0.7755835056304932\n",
            "Loss is 91.78089141845703,89.89899444580078\n",
            "[25, 45, 50, 61, 77, 84]\n",
            "Time taken for validation is 0.7901999950408936\n",
            "Loss is 90.8425521850586,88.92094421386719\n",
            "[4, 18, 25, 45, 50, 61, 77, 84]\n",
            "Time taken for validation is 0.7707920074462891\n",
            "Loss is 89.34788513183594,86.56194305419922\n",
            "[4, 18, 25, 33, 45, 50, 61, 77, 84]\n",
            "Time taken for validation is 0.7970945835113525\n",
            "Loss is 88.19232940673828,84.90418243408203\n",
            "[4, 18, 25, 33, 45, 50, 61, 77, 84]\n",
            "Time taken for validation is 0.8003015518188477\n",
            "Loss is 86.83982849121094,83.39421081542969\n",
            "[4, 18, 25, 45, 50, 61, 77, 84, 99]\n",
            "Time taken for validation is 0.777616024017334\n",
            "Loss is 85.36588287353516,81.72998809814453\n",
            "[18, 25, 33, 45, 50, 61, 77, 84, 99]\n",
            "Time taken for validation is 0.8252713680267334\n",
            "Loss is 84.9561538696289,81.3380126953125\n",
            "[4, 18, 25, 33, 45, 50, 61, 77, 84, 99]\n",
            "Time taken for validation is 0.8036904335021973\n",
            "Loss is 88.93962097167969,85.899169921875\n",
            "[4, 18, 25, 33, 45, 50, 61, 77, 84, 99]\n",
            "Time taken for validation is 0.8000357151031494\n",
            "Loss is 87.79129028320312,84.59182739257812\n"
          ],
          "name": "stdout"
        }
      ]
    },
    {
      "cell_type": "code",
      "metadata": {
        "colab": {
          "base_uri": "https://localhost:8080/",
          "height": 372
        },
        "id": "l87Fpl5Wm7Rh",
        "outputId": "e38c6c08-2578-46a1-f638-b7a73af0326f"
      },
      "source": [
        "plt.figure(figsize = (5,5))\n",
        "plt.xlabel('Rounds')\n",
        "plt.ylabel('Aggregated Model Testing Loss')\n",
        "plt.plot(range(iteration), loss_results[0], label='Loss with outliers')\n",
        "plt.plot(range(iteration), loss_results[1], label='Loss without outliers')\n",
        "# plt.legend(bbox_to_anchor=(1.05, 1), loc='upper left', borderaxespad=0.)\n",
        "plt.locator_params(axis=\"x\", nbins=5)\n",
        "plt.legend()\n",
        "plt.title(\"Model Loss over 100 FL Rounds\")"
      ],
      "execution_count": 11,
      "outputs": [
        {
          "output_type": "execute_result",
          "data": {
            "text/plain": [
              "Text(0.5, 1.0, 'Model Loss over 100 FL Rounds')"
            ]
          },
          "metadata": {
            "tags": []
          },
          "execution_count": 11
        },
        {
          "output_type": "display_data",
          "data": {
            "image/png": "[encoded data removed]",
            "text/plain": [
              "<Figure size 360x360 with 1 Axes>"
            ]
          },
          "metadata": {
            "tags": [],
            "needs_background": "light"
          }
        }
      ]
    },
    {
      "cell_type": "code",
      "metadata": {
        "colab": {
          "base_uri": "https://localhost:8080/",
          "height": 591
        },
        "id": "Xs610QCMpbRz",
        "outputId": "26504ec3-248f-4dc5-b5e1-2e9847dfa524"
      },
      "source": [
        "plt.figure(figsize = (9,9))\n",
        "plt.xlabel('Rounds')\n",
        "plt.ylabel('Number of outliers')\n",
        "plt.plot(range(iteration), number_of_detected_outliers)\n",
        "# plt.legend(bbox_to_anchor=(1.05, 1), loc='upper left', borderaxespad=0.)\n",
        "plt.locator_params(axis=\"x\", nbins=10)\n",
        "# plt.legend()\n",
        "plt.title(\"Number of detected outliers, True value = 10\")"
      ],
      "execution_count": 12,
      "outputs": [
        {
          "output_type": "execute_result",
          "data": {
            "text/plain": [
              "Text(0.5, 1.0, 'Number of detected outliers, True value = 10')"
            ]
          },
          "metadata": {
            "tags": []
          },
          "execution_count": 12
        },
        {
          "output_type": "display_data",
          "data": {
            "image/png": "[encoded data removed]",
            "text/plain": [
              "<Figure size 648x648 with 1 Axes>"
            ]
          },
          "metadata": {
            "tags": [],
            "needs_background": "light"
          }
        }
      ]
    }
  ]
}